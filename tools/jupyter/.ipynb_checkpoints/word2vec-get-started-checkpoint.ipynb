{
 "cells": [
  {
   "cell_type": "code",
   "execution_count": 4,
   "metadata": {
    "collapsed": false
   },
   "outputs": [
    {
     "data": {
      "image/png": "[encoded data removed]",
      "text/plain": [
       "<matplotlib.figure.Figure at 0x1145af550>"
      ]
     },
     "metadata": {},
     "output_type": "display_data"
    }
   ],
   "source": [
    "# -*- coding: utf-8 -*-\n",
    "\"\"\"\n",
    "given a word and visualize near words\n",
    "original source code is https://github.com/nishio/mycorpus/blob/master/vis.py\n",
    "\"\"\"\n",
    "from __future__ import print_function\n",
    "from __future__ import division\n",
    "\n",
    "import sys\n",
    "\n",
    "reload(sys)\n",
    "sys.setdefaultencoding(\"utf-8\")\n",
    "\n",
    "import word2vec_boostpython as w2v\n",
    "import matplotlib.pyplot as plt\n",
    "import matplotlib.font_manager\n",
    "from sklearn.decomposition import PCA\n",
    "\n",
    "class visWord2Vec:\n",
    "    def __init__(self, filename = 'vectors.bin'):\n",
    "        font = matplotlib.font_manager.FontProperties(fname='/Library/Fonts/Songti.ttc')\n",
    "        FONT_SIZE = 10\n",
    "        self.TEXT_KW = dict(fontsize=FONT_SIZE, fontweight='bold', fontproperties=font)\n",
    "\n",
    "        print('loading')\n",
    "        self.data = w2v.load(filename)\n",
    "        print('loaded')\n",
    "\n",
    "    def plot(self, query, nbest = 15):\n",
    "        if ', ' not in query:\n",
    "            words = [query] + w2v.search(self.data, query)[:nbest]\n",
    "        else:\n",
    "            words = query.split(', ')\n",
    "            print(', '.join(words))\n",
    "        mat = w2v.get_vectors(self.data)\n",
    "        word_indexes = [w2v.get_word_index(self.data, w) for w in words]\n",
    "        if word_indexes == [-1]:\n",
    "            print('not in vocabulary')\n",
    "            return\n",
    "\n",
    "        # do PCA\n",
    "        X = mat[word_indexes]\n",
    "        pca = PCA(n_components=2)\n",
    "        pca.fit(X)\n",
    "        print(pca.explained_variance_ratio_)\n",
    "        X = pca.transform(X)\n",
    "        xs = X[:, 0]\n",
    "        ys = X[:, 1]\n",
    "\n",
    "        # draw\n",
    "        plt.figure(figsize=(12,8))\n",
    "        plt.scatter(xs, ys, marker = 'o')\n",
    "        for i, w in enumerate(words):\n",
    "            plt.annotate(\n",
    "                w.decode('utf-8', errors='ignore'),\n",
    "                xy = (xs[i], ys[i]), xytext = (-20, 20),\n",
    "                textcoords = 'offset points', ha = 'right', va = 'bottom',\n",
    "                bbox = dict(boxstyle = 'round,pad=0.5', fc = 'yellow', alpha = 0.5),\n",
    "                arrowprops = dict(arrowstyle = '->', connectionstyle = 'arc3,rad=0'),\n",
    "                **self.TEXT_KW)\n",
    "\n",
    "        plt.show()\n",
    "        \n",
    "vis = visWord2Vec(filename=\"/Users/hain/ai/word2vec-get-started/tmp/iqa.w2v.20170909113039.bin1.neg1.cbow0.win5.iter30.embed100.thr30\")\n",
    "vis.plot('家庭, 保险, 日托, 住房')"
   ]
  },
  {
   "cell_type": "code",
   "execution_count": null,
   "metadata": {
    "collapsed": true
   },
   "outputs": [],
   "source": []
  }
 ],
 "metadata": {
  "kernelspec": {
   "display_name": "Python2",
   "language": "python",
   "name": "py2"
  },
  "language_info": {
   "codemirror_mode": {
    "name": "ipython",
    "version": 2
   },
   "file_extension": ".py",
   "mimetype": "text/x-python",
   "name": "python",
   "nbconvert_exporter": "python",
   "pygments_lexer": "ipython2",
   "version": "2.7.10"
  }
 },
 "nbformat": 4,
 "nbformat_minor": 0
}
